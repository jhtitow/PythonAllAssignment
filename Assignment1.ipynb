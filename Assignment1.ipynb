{
 "cells": [
  {
   "cell_type": "code",
   "execution_count": 5,
   "id": "de662574-4ba6-4ff9-bb41-51537e23aaea",
   "metadata": {},
   "outputs": [
    {
     "name": "stdin",
     "output_type": "stream",
     "text": [
      "Enter First Number:  10\n",
      "Enter Second Number:  2\n",
      "Enter Third Number:  3\n"
     ]
    },
    {
     "name": "stdout",
     "output_type": "stream",
     "text": [
      "Summation : 15.0\n",
      "Subtraction : 5.0\n",
      "Multiplication : 60.0\n",
      "Divishion : 1.6666666666666667\n"
     ]
    }
   ],
   "source": [
    "a = float(input(\"Enter First Number: \"))\n",
    "b = float(input(\"Enter Second Number: \"))\n",
    "c = float(input(\"Enter Third Number: \"))\n",
    "sum=a+b+c\n",
    "sub=a-b-c\n",
    "mul = a*b*c\n",
    "div = a/b/c\n",
    "print(f\"Summation : {sum}\")\n",
    "print(f\"Subtraction : {sub}\")\n",
    "print(f\"Multiplication : {mul}\")\n",
    "print(f\"Divishion : {div}\")"
   ]
  },
  {
   "cell_type": "code",
   "execution_count": null,
   "id": "a3fd5509-ef91-47eb-bfbf-55223665fcc7",
   "metadata": {},
   "outputs": [],
   "source": []
  }
 ],
 "metadata": {
  "kernelspec": {
   "display_name": "Python 3 (ipykernel)",
   "language": "python",
   "name": "python3"
  },
  "language_info": {
   "codemirror_mode": {
    "name": "ipython",
    "version": 3
   },
   "file_extension": ".py",
   "mimetype": "text/x-python",
   "name": "python",
   "nbconvert_exporter": "python",
   "pygments_lexer": "ipython3",
   "version": "3.11.7"
  }
 },
 "nbformat": 4,
 "nbformat_minor": 5
}
